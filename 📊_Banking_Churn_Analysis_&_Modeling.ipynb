{
  "metadata": {
    "kernelspec": {
      "language": "python",
      "display_name": "Python 3",
      "name": "python3"
    },
    "language_info": {
      "pygments_lexer": "ipython3",
      "nbconvert_exporter": "python",
      "version": "3.6.4",
      "file_extension": ".py",
      "codemirror_mode": {
        "name": "ipython",
        "version": 3
      },
      "name": "python",
      "mimetype": "text/x-python"
    },
    "colab": {
      "name": "📊 Banking Churn Analysis & Modeling.",
      "provenance": []
    }
  },
  "nbformat_minor": 0,
  "nbformat": 4,
  "cells": [
    {
      "source": [
        "# IMPORTANT: RUN THIS CELL IN ORDER TO IMPORT YOUR KAGGLE DATA SOURCES,\n",
        "# THEN FEEL FREE TO DELETE THIS CELL.\n",
        "# NOTE: THIS NOTEBOOK ENVIRONMENT DIFFERS FROM KAGGLE'S PYTHON\n",
        "# ENVIRONMENT SO THERE MAY BE MISSING LIBRARIES USED BY YOUR\n",
        "# NOTEBOOK.\n",
        "import kagglehub\n",
        "shrutimechlearn_churn_modelling_path = kagglehub.dataset_download('shrutimechlearn/churn-modelling')\n",
        "\n",
        "print('Data source import complete.')\n"
      ],
      "metadata": {
        "id": "_rxKdJiUBEEi"
      },
      "cell_type": "code",
      "outputs": [],
      "execution_count": null
    },
    {
      "cell_type": "markdown",
      "source": [
        "<div style=\"border-radius:10px; border:black solid; padding: 15px; background-color: Brown; font-size:100%; text-align:left\">\n",
        "<p style=\"font-family:Georgia; font-weight:bold; letter-spacing: 2px; color:white; font-size:200%; text-align:center;padding: 0px;\"> Banking Churn Analysis & Modeling.</p></div>"
      ],
      "metadata": {
        "id": "o6EyncTXBEEj"
      }
    },
    {
      "cell_type": "markdown",
      "source": [
        "<div align=\"center\">\n",
        "  <img src=\"https://m.economictimes.com/thumb/msid-100281493,width-1200,height-900,resizemode-4,imgsize-14062/banks-request-rbi-for-more-time-for-new-loan-provisioning-system.jpg\" alt=\"Image Description\" width=\"300\" height=\"200\">\n",
        "</div>"
      ],
      "metadata": {
        "id": "0y27Pf2QBEEm"
      }
    },
    {
      "cell_type": "markdown",
      "source": [
        "<div style=\"border-radius:10px; border:black solid; padding: 15px; background-color: #FFFAF0; font-size:100%; text-align:left\">\n",
        "\n",
        "<div style=\"font-family:Georgia;background-color:'#DEB887'; padding:30px; font-size:17px\">\n",
        "\n",
        "\n",
        "\n",
        "<b>  Problem Statement:</b><br>\n",
        "    \n",
        "1. Despite the continuous efforts of banks to attract and retain customers, the banking industry faces a persistent challenge in the form of customer churn, leading to financial losses and reduced customer satisfaction.<br>\n",
        "2. It is advantageous for banks to know what leads a client towards the decision to leave the company.<br>\n",
        "    <br>\n",
        "    \n",
        "    \n",
        "<b>Project Objective:-</b>\n",
        "\n",
        "1. The aim of this project is to analyze the customer churn rate for bank because it is useful to understand why the customers leave.<br>\n",
        "2. After Analyzing we need to train a Machine Learning Model which can find the key factors that significantly influence the customer churn or attrition.<br>\n",
        "3. In the end will choose the most reliable model that will attach a probability to the churn to make it easier for customer service to target right customer in order to minimize their efforts to prevent customers churn.<br>\n",
        "<br>\n",
        "\n",
        "<b>  Project Overview:</b><br>\n",
        "\n",
        "1. <b>Churn refers</b> to customers leaving a bank or discontinuing their banking services.<br>\n",
        "2. <b>Banking Churn Analysis</b> is a process of studying customer behavior in the banking industry to predict and understand customer attrition or churn.<br>\n",
        "3. <b>Banking Churn Modeling</b> aims to identify patterns and factors that contribute to customer churn, enabling banks to take proactive measures to retain customers and improve customer satisfaction.<br></div>"
      ],
      "metadata": {
        "id": "AVi718hVBEEn"
      }
    },
    {
      "cell_type": "markdown",
      "source": [
        "<div style=\"border-radius:10px; border:#808080 solid; padding: 15px; background-color:##F0E68C ; font-size:100%; text-align:left\">\n",
        "\n",
        "<div style=\"font-family:Georgia;background-color:'#DEB887'; padding:30px; font-size:17px\">\n",
        "\n",
        "<h3 align=\"left\"><font color=brown>📊 Table of Contents:</font></h3><br>\n",
        "\n",
        "\n",
        "1. <b>Importing Libraries & Dataset.</b><br>\n",
        "    \n",
        "    <br>\n",
        "2. <b>Data Wrangling.</b><br>\n",
        "    * Data Cleaning.<br>\n",
        "    * Handling Missing Values.<br>\n",
        "    * Handling Inconsistances.<br>\n",
        "    \n",
        "    <br>\n",
        "3. <b>Exploratory Data Analysis (EDA)</b><br>\n",
        "    * Visualizing Dependent Variable.<br>\n",
        "    * Visualizing Independent Variables.<br>\n",
        "    * Generating Insights.<br>\n",
        "    \n",
        "    <br>\n",
        "4. <b>Data Preprocessing.</b><br>\n",
        "    * Variable Selection and Importance.<br>\n",
        "    * Feature Transformation , Scaling and Encoding.<br>\n",
        "    * Splitting Data for Model Training.<br>\n",
        "    * Applying SMOTE to reduce class-imbalance.<br>\n",
        "    \n",
        "    <br>\n",
        "5. <b>Model Creation, Training and Evaluation.</b><br>\n",
        "    * Selection of Classification Algorithms.<br>\n",
        "    * Model Training and Tuning.<br>\n",
        "    * Model Evaluation and Performance.<br>\n",
        "    * Confusion Matrix Analysis.<br>\n",
        "    * Accuracy, Precision, Recall, and F1 Score.<br>\n",
        "    * Receiver Operating Characteristic (ROC) Curve and AUC.<br>\n",
        "    * Feature Importance and Contribution.<br></div>"
      ],
      "metadata": {
        "id": "CzYzplA_BEEo"
      }
    },
    {
      "cell_type": "markdown",
      "source": [
        "---"
      ],
      "metadata": {
        "id": "H-2zLFyrBEEp"
      }
    },
    {
      "cell_type": "markdown",
      "source": [
        "## <div style=\"text-align: left; background-color:aliceblue ; font-family: Trebuchet MS; color: black; padding: 15px; line-height:1;border-radius:1px; margin-bottom: 0em; text-align: center; font-size: 25px;border-style: solid;border-color: dark green;\">  Importing Required Libraries </div>"
      ],
      "metadata": {
        "id": "NYZz94nsBEEp"
      }
    },
    {
      "cell_type": "code",
      "source": [
        "import numpy as np\n",
        "import pandas as pd\n",
        "import seaborn as sns\n",
        "import matplotlib.pyplot as plt\n",
        "from scipy import stats\n",
        "import warnings\n",
        "warnings.filterwarnings(\"ignore\")\n",
        "sns.set(style=\"darkgrid\",font_scale=1.5)\n",
        "\n",
        "from sklearn.tree import DecisionTreeClassifier\n",
        "from sklearn.ensemble import RandomForestClassifier\n",
        "\n",
        "from sklearn.preprocessing import LabelEncoder, OneHotEncoder\n",
        "from sklearn.model_selection import train_test_split, GridSearchCV\n",
        "from sklearn.metrics import accuracy_score, precision_score, recall_score ,f1_score\n",
        "from sklearn.metrics import confusion_matrix, roc_curve, roc_auc_score\n",
        "\n",
        "from imblearn.over_sampling import SMOTE"
      ],
      "metadata": {
        "id": "cAHgsB5NBEEq"
      },
      "execution_count": null,
      "outputs": []
    },
    {
      "cell_type": "markdown",
      "source": [
        "---"
      ],
      "metadata": {
        "id": "0g6ZT_zHBEEq"
      }
    },
    {
      "cell_type": "markdown",
      "source": [
        "## <div style=\"text-align: left; background-color:aliceblue ; font-family: Trebuchet MS; color: black; padding: 15px; line-height:1;border-radius:1px; margin-bottom: 0em; text-align: center; font-size: 25px;border-style: solid;border-color: dark green;\"> Loading Dataset</div>"
      ],
      "metadata": {
        "id": "qmmMCVTVBEEr"
      }
    },
    {
      "cell_type": "code",
      "source": [
        "df = pd.read_csv(\"/kaggle/input/churn-modelling/Churn_Modelling.csv\")"
      ],
      "metadata": {
        "id": "w_yDC4HOBEEr"
      },
      "execution_count": null,
      "outputs": []
    },
    {
      "cell_type": "code",
      "source": [
        "df.head()"
      ],
      "metadata": {
        "id": "ItkA4FGpBEEr"
      },
      "execution_count": null,
      "outputs": []
    },
    {
      "cell_type": "markdown",
      "source": [
        "---"
      ],
      "metadata": {
        "id": "mciyGKIwBEEs"
      }
    },
    {
      "cell_type": "markdown",
      "source": [
        "## <div style=\"text-align: left; background-color:aliceblue ; font-family: Trebuchet MS; color: black; padding: 15px; line-height:1;border-radius:1px; margin-bottom: 0em; text-align: center; font-size: 25px;border-style: solid;border-color: dark green;\"> Basic Understanding of Data</div>"
      ],
      "metadata": {
        "id": "6yrMG0mGBEEs"
      }
    },
    {
      "cell_type": "markdown",
      "source": [
        "### 1. Checking the Dimensions of Dataset."
      ],
      "metadata": {
        "id": "gSZYStmvBEEs"
      }
    },
    {
      "cell_type": "code",
      "source": [
        "print(\"Total number of records/rows present in the dataset is:\",df.shape[0])\n",
        "print(\"Total number of attributes/columns present in the dataset is:\",df.shape[1])"
      ],
      "metadata": {
        "id": "sCPXKEu8BEEt"
      },
      "execution_count": null,
      "outputs": []
    },
    {
      "cell_type": "markdown",
      "source": [
        "---"
      ],
      "metadata": {
        "id": "qqgd2mcMBEEt"
      }
    },
    {
      "cell_type": "markdown",
      "source": [
        "### 2. Fetching the Attributes Names."
      ],
      "metadata": {
        "id": "n1OBEQzsBEEt"
      }
    },
    {
      "cell_type": "code",
      "source": [
        "df.columns"
      ],
      "metadata": {
        "id": "DUfH4RWfBEEt"
      },
      "execution_count": null,
      "outputs": []
    },
    {
      "cell_type": "markdown",
      "source": [
        "<div style=\"border-radius:10px; border:#808080 solid; padding: 15px; background-color: ##F0E68C ; font-size:100%; text-align:left\">\n",
        "\n",
        "<h3 align=\"left\"><font color=brown>📊 Inference:</font></h3>\n",
        "    \n",
        "1. **RowNumber:** It is likely a unique identifier for each record and does not contribute directly to the analysis.\n",
        "2. **CustomerId:** It can be used to track and differentiate individual customers within the dataset.\n",
        "3. **Surname:** It provides information about the family name of each customer.\n",
        "4. **CreditScore:** It is a numerical value that assesses the creditworthiness of an individual based on their credit history and financial behavior.\n",
        "5. **Geography:** It provides information about the customers' geographic distribution, allowing for analysis based on regional or national factors.\n",
        "6. **Gender:** It categorizes customers as either male or female, enabling gender-based analysis if relevant to the churn prediction.\n",
        "7. **Age:** It represents the customer's age in years and can be used to analyze age-related patterns and behaviors.\n",
        "8. **Tenure:** It typically represents the number of years or months the customer has been associated with the bank.\n",
        "9. **Balance:** It reflects the amount of money in the customer's bank account at a specific point in time.\n",
        "10. **NumOfProducts:** It can include various offerings such as savings accounts, loans, credit cards, etc.\n",
        "11. **HasCrCard:** It is a binary variable with a value of 1 if the customer possesses a credit card and 0 otherwise.\n",
        "12. **IsActiveMember:** It is a binary variable indicating whether the customer is an active member (1) or not (0) within the bank.\n",
        "13. **EstimatedSalary:** It provides an approximation of the customer's income level, which can be relevant for analyzing churn behavior.\n",
        "14. **Exited:** It indicates whether a customer has churned (1) or not (0) from the bank. It is the variable we aim to predict using the other features."
      ],
      "metadata": {
        "id": "J9_gi1IrBEEt"
      }
    },
    {
      "cell_type": "markdown",
      "source": [
        "---"
      ],
      "metadata": {
        "id": "s5zIlCP-BEEt"
      }
    },
    {
      "cell_type": "markdown",
      "source": [
        "### 3. Generating Basic Information of the data."
      ],
      "metadata": {
        "id": "5w6rz5KpBEEu"
      }
    },
    {
      "cell_type": "code",
      "source": [
        "df.info()"
      ],
      "metadata": {
        "id": "9MxOiTPIBEEu"
      },
      "execution_count": null,
      "outputs": []
    },
    {
      "cell_type": "markdown",
      "source": [
        "<div style=\"border-radius:10px; border:#808080 solid; padding: 15px; background-color: ##F0E68C ; font-size:100%; text-align:left\">\n",
        "\n",
        "<h3 align=\"left\"><font color=brown>📊 Inference:</font></h3>\n",
        "\n",
        "* There is total **10000 records** and **14 columns** availabe in the dataset.\n",
        "* **Out of 14 columns** there are **11 numerical columns** and **3 categorical columns.**</div>"
      ],
      "metadata": {
        "id": "-lKoSfAKBEEu"
      }
    },
    {
      "cell_type": "markdown",
      "source": [
        "---"
      ],
      "metadata": {
        "id": "WfErXGm9BEEu"
      }
    },
    {
      "cell_type": "markdown",
      "source": [
        "### 4. Computing Total No. of Missing Values."
      ],
      "metadata": {
        "id": "GhqZ876bBEEu"
      }
    },
    {
      "cell_type": "code",
      "source": [
        "df.isnull().sum().to_frame().rename(columns={0:\"Total No. of Missing Values\"})"
      ],
      "metadata": {
        "id": "IJrbddiABEEu"
      },
      "execution_count": null,
      "outputs": []
    },
    {
      "cell_type": "markdown",
      "source": [
        "<div style=\"border-radius:10px; border:#808080 solid; padding: 15px; background-color: ##F0E68C ; font-size:100%; text-align:left\">\n",
        "\n",
        "<h3 align=\"left\"><font color=brown>📊 Inference:</font></h3>\n",
        "\n",
        "* **None** of the columns is having **missing values.**\n",
        "* So we **don't** have to perform **Data Imputation.**"
      ],
      "metadata": {
        "id": "Bt9DFl1_BEEu"
      }
    },
    {
      "cell_type": "markdown",
      "source": [
        "---"
      ],
      "metadata": {
        "id": "PsjWLXqsBEEu"
      }
    },
    {
      "cell_type": "markdown",
      "source": [
        "### 5. Checking Duplicate Records."
      ],
      "metadata": {
        "id": "YnAQVwHXBEEu"
      }
    },
    {
      "cell_type": "code",
      "source": [
        "df[df.duplicated()]"
      ],
      "metadata": {
        "id": "RXEr9aIlBEEv"
      },
      "execution_count": null,
      "outputs": []
    },
    {
      "cell_type": "markdown",
      "source": [
        "<div style=\"border-radius:10px; border:#808080 solid; padding: 15px; background-color: ##F0E68C ; font-size:100%; text-align:left\">\n",
        "\n",
        "<h3 align=\"left\"><font color=brown>📊 Inference:</font></h3>\n",
        "\n",
        "* There are **no duplicate records** present in the dataset.\n",
        "* So we can say there is no **Data Lekage** in the dataset."
      ],
      "metadata": {
        "id": "-_L82fAJBEEv"
      }
    },
    {
      "cell_type": "markdown",
      "source": [
        "---"
      ],
      "metadata": {
        "id": "sWglDoBVBEEv"
      }
    },
    {
      "cell_type": "markdown",
      "source": [
        "### 6. Performing Descriptive Statistical Analysis on Categorical Columns."
      ],
      "metadata": {
        "id": "MwNkdRmVBEEv"
      }
    },
    {
      "cell_type": "code",
      "source": [
        "df.describe(include=\"object\").T"
      ],
      "metadata": {
        "id": "cqMd6pd5BEEv"
      },
      "execution_count": null,
      "outputs": []
    },
    {
      "cell_type": "markdown",
      "source": [
        "<div style=\"border-radius:10px; border:#808080 solid; padding: 15px; background-color: ##F0E68C ; font-size:100%; text-align:left\">\n",
        "\n",
        "<h3 align=\"left\"><font color=brown>📊 Inference:</font></h3>\n",
        "\n",
        "* **Surname column** is having **very high cardinality** and **not relevant** for predicting **customer churned or not.** So we can **simply drop this feature.**\n",
        "* **Geography & Gender** Columns are having **low cardinality** and **seems relevant** for predicting **customer churned or not.**"
      ],
      "metadata": {
        "id": "fGnfphTfBEEv"
      }
    },
    {
      "cell_type": "markdown",
      "source": [
        "---"
      ],
      "metadata": {
        "id": "qUOnr7knBEEv"
      }
    },
    {
      "cell_type": "markdown",
      "source": [
        "## <div style=\"text-align: left; background-color:aliceblue ; font-family: Trebuchet MS; color: black; padding: 15px; line-height:1;border-radius:1px; margin-bottom: 0em; text-align: center; font-size: 25px;border-style: solid;border-color: dark green;\"> Data Wrangling</div>"
      ],
      "metadata": {
        "id": "d_fh-H4MBEEv"
      }
    },
    {
      "cell_type": "markdown",
      "source": [
        "\n",
        "* **Data wrangling**, also known as **data munging**, refers to the process of **cleaning, transforming, and preparing raw data for analysis.**\n",
        "* It involves **handling missing values**, **addressing inconsistencies** and **formatting data** before it can be used for **further analysis**."
      ],
      "metadata": {
        "id": "rOkpogtTBEEw"
      }
    },
    {
      "cell_type": "markdown",
      "source": [
        "### 1. Showing Random Sample of Data."
      ],
      "metadata": {
        "id": "y3zDFvbqBEE5"
      }
    },
    {
      "cell_type": "code",
      "source": [
        "df.sample(5)"
      ],
      "metadata": {
        "id": "5N4zcPJMBEE5"
      },
      "execution_count": null,
      "outputs": []
    },
    {
      "cell_type": "markdown",
      "source": [
        "<div style=\"border-radius:10px; border:#808080 solid; padding: 15px; background-color: ##F0E68C ; font-size:100%; text-align:left\">\n",
        "\n",
        "<h3 align=\"left\"><font color=brown>📊 Inference:</font></h3>\n",
        "\n",
        "* **RowNumber** and **CustomerId** columns **represents a unique value** for each customer and **doesn't seem relevant** for predicting **customer churned or not.**\n",
        "* **Surname** column is having **high cardinality* and **doesn't seems relevant** for predicting **customer churned or not.**\n",
        "* So we can simply **drop** these features."
      ],
      "metadata": {
        "id": "fFDOMcouBEE5"
      }
    },
    {
      "cell_type": "markdown",
      "source": [
        "### 2. Dropping Insignificant Features."
      ],
      "metadata": {
        "id": "98Q_LIafBEE5"
      }
    },
    {
      "cell_type": "code",
      "source": [
        "df.drop(columns=[\"RowNumber\",\"CustomerId\",\"Surname\"],inplace=True)"
      ],
      "metadata": {
        "id": "REK2dZ0eBEE5"
      },
      "execution_count": null,
      "outputs": []
    },
    {
      "cell_type": "markdown",
      "source": [
        "---"
      ],
      "metadata": {
        "id": "23w3VW9fBEE5"
      }
    },
    {
      "cell_type": "markdown",
      "source": [
        "### 3. Renaming Target Variable name and its values with more appropirate values for better Analysis."
      ],
      "metadata": {
        "id": "qm-Gr-5-BEE5"
      }
    },
    {
      "cell_type": "code",
      "source": [
        "df.rename(columns={\"Exited\":\"Churned\"},inplace=True)"
      ],
      "metadata": {
        "id": "vBqsxWqsBEE6"
      },
      "execution_count": null,
      "outputs": []
    },
    {
      "cell_type": "code",
      "source": [
        "df[\"Churned\"].replace({0:\"No\",1:\"Yes\"},inplace=True)"
      ],
      "metadata": {
        "id": "ESf1I-ApBEE6"
      },
      "execution_count": null,
      "outputs": []
    },
    {
      "cell_type": "code",
      "source": [
        "df.head()"
      ],
      "metadata": {
        "id": "Gix8xBHYBEE6"
      },
      "execution_count": null,
      "outputs": []
    },
    {
      "cell_type": "markdown",
      "source": [
        "<div style=\"border-radius:10px; border:#808080 solid; padding: 15px; background-color: ##F0E68C ; font-size:100%; text-align:left\">\n",
        "\n",
        "<h3 align=\"left\"><font color=brown>📊 Inference:</font></h3>\n",
        "\n",
        "* We have **converted raw data** into **well-structured data** to better analysis.\n",
        "* So we can perform **Expolatory Data Analysis** and **derive insights from the data.**</div>"
      ],
      "metadata": {
        "id": "7gAbsgncBEE6"
      }
    },
    {
      "cell_type": "markdown",
      "source": [
        "---"
      ],
      "metadata": {
        "id": "XWJqzwqZBEE6"
      }
    },
    {
      "cell_type": "markdown",
      "source": [
        "## <div style=\"text-align: left; background-color:aliceblue ; font-family: Trebuchet MS; color:black; padding: 15px; line-height:1;border-radius:1px; margin-bottom: 0em; text-align: center; font-size: 25px;border-style: solid;border-color: dark green;\"> Explorator Data Analysis</div>"
      ],
      "metadata": {
        "id": "fqPNZHUqBEE6"
      }
    },
    {
      "cell_type": "markdown",
      "source": [
        "### 1. Visualizing Target Variable."
      ],
      "metadata": {
        "id": "UHOHWI-hBEE7"
      }
    },
    {
      "cell_type": "code",
      "source": [
        "count = df[\"Churned\"].value_counts()\n",
        "\n",
        "plt.figure(figsize=(14,6))\n",
        "plt.subplot(1,2,1)\n",
        "ax=sns.countplot(df[\"Churned\"],palette=\"Set2\")\n",
        "ax.bar_label(ax.containers[0],fontweight=\"black\",size=15)\n",
        "plt.title(\"Customer Churned Disribution\",fontweight=\"black\",size=20,pad=20)\n",
        "\n",
        "plt.subplot(1,2,2)\n",
        "plt.pie(count.values, labels=count.index, autopct=\"%1.1f%%\",colors=sns.set_palette(\"Set2\"),\n",
        "        textprops={\"fontweight\":\"black\"},explode=[0,0.1])\n",
        "plt.title(\"Customer Churned Disribution\",fontweight=\"black\",size=20,pad=20)\n",
        "plt.show()"
      ],
      "metadata": {
        "id": "7ugO-OqvBEE7"
      },
      "execution_count": null,
      "outputs": []
    },
    {
      "cell_type": "markdown",
      "source": [
        "</div><div style=\"border-radius:10px; border:#808080 solid; padding: 15px; background-color: ##F0E68C ; font-size:100%; text-align:left\">\n",
        "\n",
        "<h3 align=\"left\"><font color=brown>📊 Inference:</font></h3>\n",
        "\n",
        "* There is **huge class-imbalance** which can lead to **bias in model performance.**\n",
        "* So to **overcome** this **class-imbalance** we have to use **over-sampling technique** from **SMOTE**."
      ],
      "metadata": {
        "id": "FcjScHb7BEE7"
      }
    },
    {
      "cell_type": "markdown",
      "source": [
        "---"
      ],
      "metadata": {
        "id": "HcUR9LjSBEE7"
      }
    },
    {
      "cell_type": "markdown",
      "source": [
        "### 2. Visualizing Customer Churned by Gender."
      ],
      "metadata": {
        "id": "ADanxVyrBEE7"
      }
    },
    {
      "cell_type": "code",
      "source": [
        "def countplot(column):\n",
        "    plt.figure(figsize=(15,5))\n",
        "    ax = sns.countplot(x=column, data=df, hue=\"Churned\",palette=\"Set2\")\n",
        "    for value in ax.patches:\n",
        "        percentage = \"{:.1f}%\".format(100*value.get_height()/len(df[column]))\n",
        "        x = value.get_x() + value.get_width() / 2 - 0.05\n",
        "        y = value.get_y() + value.get_height()\n",
        "        ax.annotate(percentage, (x,y), fontweight=\"black\",size=15)\n",
        "\n",
        "    plt.title(f\"Customer Churned by {column}\",fontweight=\"black\",size=20,pad=20)\n",
        "    plt.show()"
      ],
      "metadata": {
        "id": "NxQUiZXKBEE7"
      },
      "execution_count": null,
      "outputs": []
    },
    {
      "cell_type": "code",
      "source": [
        "countplot(\"Gender\")"
      ],
      "metadata": {
        "id": "g10qx4IEBEE8"
      },
      "execution_count": null,
      "outputs": []
    },
    {
      "cell_type": "markdown",
      "source": [
        "<div style=\"border-radius:10px; border:#808080 solid; padding: 15px; background-color: ##F0E68C ; font-size:100%; text-align:left\">\n",
        "\n",
        "<h3 align=\"left\"><font color=brown>📊 Inference:</font></h3>\n",
        "\n",
        "* The **churned probabillity** is more for **Feamle Customers** compared to **male customers**.\n",
        "* Which means **female customers** are **more deactivating their banking facilities** compared to **male customers.**\n",
        "\n",
        "    \n",
        "<h3 align=\"left\"><font color=brown>📊 Recommendation:</font></h3>\n",
        "\n",
        "* Bank can **Develop targeted marketing campaigns** specifically tailored to **female customers.**\n",
        "* Bank can **Focus on enhancing** the overall **customer experience** for **female customers.**"
      ],
      "metadata": {
        "id": "vACo0TzLBEE8"
      }
    },
    {
      "cell_type": "markdown",
      "source": [
        "---"
      ],
      "metadata": {
        "id": "fShhRL43BEE8"
      }
    },
    {
      "cell_type": "markdown",
      "source": [
        "### 3. Visualizing Customer Churned by Geoprahical Region."
      ],
      "metadata": {
        "id": "6KCyz--HBEE8"
      }
    },
    {
      "cell_type": "code",
      "source": [
        "countplot(\"Geography\")"
      ],
      "metadata": {
        "id": "yabJVih8BEE8"
      },
      "execution_count": null,
      "outputs": []
    },
    {
      "cell_type": "markdown",
      "source": [
        "<div style=\"border-radius:10px; border:#808080 solid; padding: 15px; background-color: ##F0E68C ; font-size:100%; text-align:left\">\n",
        "\n",
        "<h3 align=\"left\"><font color=brown>📊 Inference:</font></h3>\n",
        "\n",
        "* **Half of the customers** are from **France** followed by Germany and Spain.\n",
        "* Despite of the **huge total customers difference** between France & Germany the **churned rate** for **France and Germany** customers are **same.**\n",
        "* There are **almost equal customers** from **Spain & Germany**, but the **Churn rate** is **almost double** in **Germany** when **compared with spain.**\n",
        "    \n",
        "<h3 align=\"left\"><font color=brown>📊 Recommendation:</font></h3>\n",
        "    \n",
        "* Bank can **analyze** the **banking facilites & behaviour** of **customers from france** and try to **implement those on Germany customers.**"
      ],
      "metadata": {
        "id": "GoInALUCBEE8"
      }
    },
    {
      "cell_type": "markdown",
      "source": [
        "---"
      ],
      "metadata": {
        "id": "0Xn2rNoWBEE8"
      }
    },
    {
      "cell_type": "markdown",
      "source": [
        "### 4. Visualizing Customer Churn by \"HasCrCard\"."
      ],
      "metadata": {
        "id": "le2W4P5CBEE8"
      }
    },
    {
      "cell_type": "code",
      "source": [
        "countplot(\"HasCrCard\")"
      ],
      "metadata": {
        "id": "IuBS2iNbBEE8"
      },
      "execution_count": null,
      "outputs": []
    },
    {
      "cell_type": "markdown",
      "source": [
        "<div style=\"border-radius:10px; border:#808080 solid; padding: 15px; background-color: ##F0E68C ; font-size:100%; text-align:left\">\n",
        "\n",
        "<h3 align=\"left\"><font color=brown>📊 Inference:</font></h3>\n",
        "\n",
        "* **More than 70%** of customers are having **credit card.**\n",
        "* The **churn probability value** for the **both** the categories is **almost 1:4.**\n",
        "* So **credit card is not affecting the churn of customers.**"
      ],
      "metadata": {
        "id": "J9rnzBxhBEE9"
      }
    },
    {
      "cell_type": "markdown",
      "source": [
        "---"
      ],
      "metadata": {
        "id": "RbKVs3h7BEE9"
      }
    },
    {
      "cell_type": "markdown",
      "source": [
        "### 5. Visualizing Customer Churned by \"NumOfProducts\"."
      ],
      "metadata": {
        "id": "lzrQnOyFBEE9"
      }
    },
    {
      "cell_type": "code",
      "source": [
        "countplot(\"NumOfProducts\")"
      ],
      "metadata": {
        "id": "y9rdAG4EBEE9"
      },
      "execution_count": null,
      "outputs": []
    },
    {
      "cell_type": "markdown",
      "source": [
        "<div style=\"border-radius:10px; border:#808080 solid; padding: 15px; background-color: ##F0E68C ; font-size:100%; text-align:left\">\n",
        "\n",
        "<h3 align=\"left\"><font color=brown>📊 Inference:</font></h3>\n",
        "\n",
        "* **Most** of the customers are having **either 1 or 2** total number of banking products.\n",
        "* **Very few** customers are having **more than 2** total number of banking products.\n",
        "* **The lowest churn rate** is with customers having **only 2 products.**\n",
        "* There is **very high churn rate** in customers having **1 product** or **more than 2 products.**\n",
        "* **Note:**\n",
        "    1. We can do **feature engineering** by **grouping the customers having products more than 2 together** to **reduce the class imbalance.**\n",
        "    2. Because **Class Imbalance** leads to **bias in model** and **misrepresentation of minority class.**\n",
        "    \n",
        "\n",
        "<h3 align=\"left\"><font color=brown>📊 Recommendation:</font></h3>\n",
        "\n",
        "* The **bank can try to convince the customers** to have **atleast 2 banking products.**\n",
        "* They can provide **Rewards and Incentives** to the **customers having atleast 2 banking products.**"
      ],
      "metadata": {
        "id": "OTzCUDa_BEE9"
      }
    },
    {
      "cell_type": "markdown",
      "source": [
        "---"
      ],
      "metadata": {
        "id": "YhB5xxcOBEE9"
      }
    },
    {
      "cell_type": "markdown",
      "source": [
        "### 6. Visualizing Customer Churned by \"IsActiveMember\"."
      ],
      "metadata": {
        "id": "vhAhHCN1BEE9"
      }
    },
    {
      "cell_type": "code",
      "source": [
        "countplot(\"IsActiveMember\")"
      ],
      "metadata": {
        "id": "fJiJMuhvBEE9"
      },
      "execution_count": null,
      "outputs": []
    },
    {
      "cell_type": "markdown",
      "source": [
        "<div style=\"border-radius:10px; border:#808080 solid; padding: 15px; background-color: ##F0E68C ; font-size:100%; text-align:left\">\n",
        "\n",
        "<h3 align=\"left\"><font color=brown>📊 Inference:</font></h3>\n",
        "\n",
        "* There is **approxiamately equal customer** who are **either active or not active.**\n",
        "* But the **churn rate %** in **not active customers is almost double** compared to **active customers.**\n",
        "* So **customers which are not active are morely likely to deactivate their banking facilities.**\n",
        "\n",
        "<h3 align=\"left\"><font color=brown>📊 Recommendation:</font></h3>\n",
        "    \n",
        "* Bank can provide **Regular Communication and Updates**, and **Enhanced Digital Services** so that customers remain active to the banking facilities."
      ],
      "metadata": {
        "id": "XOVN9wZpBEE9"
      }
    },
    {
      "cell_type": "markdown",
      "source": [
        "---"
      ],
      "metadata": {
        "id": "JZsipa72BEE9"
      }
    },
    {
      "cell_type": "markdown",
      "source": [
        "### 7. Visualizing Customer Churned by \"Tenure\"."
      ],
      "metadata": {
        "id": "5ICxnxNgBEE9"
      }
    },
    {
      "cell_type": "code",
      "source": [
        "plt.figure(figsize=(15,5))\n",
        "ax = sns.countplot(x=\"Tenure\", data=df, hue=\"Churned\",palette=\"Set2\")\n",
        "for value in ax.patches:\n",
        "    percentage = \"{:.1f}%\".format(100*value.get_height()/len(df[\"Tenure\"]))\n",
        "    x = value.get_x() + value.get_width() / 2 - 0.05\n",
        "    y = value.get_y() + value.get_height()\n",
        "    ax.annotate(percentage, (x,y), fontweight=\"black\",size=12, ha=\"center\")\n",
        "\n",
        "plt.title(\"Customer Churned by Tenure\",fontweight=\"black\",size=20,pad=20)\n",
        "plt.show()"
      ],
      "metadata": {
        "id": "Y6jLKKy4BEE9"
      },
      "execution_count": null,
      "outputs": []
    },
    {
      "cell_type": "markdown",
      "source": [
        "<div style=\"border-radius:10px; border:#808080 solid; padding: 15px; background-color: ##F0E68C ; font-size:100%; text-align:left\">\n",
        "\n",
        "<h3 align=\"left\"><font color=brown>📊 Inference:</font></h3>\n",
        "\n",
        "* The **highest tenure is 10 years** which means that those customers have **opened their account 10 years back.**\n",
        "* Since there is **almost similar distribution of churn status** we can't make any specific inference."
      ],
      "metadata": {
        "id": "MFnTbvDCBEE-"
      }
    },
    {
      "cell_type": "markdown",
      "source": [
        "---"
      ],
      "metadata": {
        "id": "pnQMCgTtBEE-"
      }
    },
    {
      "cell_type": "markdown",
      "source": [
        "### 8. Visualizing Customer Churned by \"CreditScore\"."
      ],
      "metadata": {
        "id": "Ho1uTJsWBEE-"
      }
    },
    {
      "cell_type": "code",
      "source": [
        "def continous_plot(column):\n",
        "    plt.figure(figsize=(13,6))\n",
        "    plt.subplot(1,2,1)\n",
        "    sns.histplot(x=column,hue=\"Churned\",data=df,kde=True,palette=\"Set2\")\n",
        "    plt.title(f\"Distribution of {column} by Churn Status\",fontweight=\"black\",pad=20,size=15)\n",
        "\n",
        "    plt.subplot(1,2,2)\n",
        "    sns.boxplot(df[\"Churned\"],df[column],palette=\"Set2\")\n",
        "    plt.title(f\"Distribution of {column} by Churn Status\",fontweight=\"black\",pad=20,size=15)\n",
        "    plt.tight_layout()\n",
        "    plt.show()"
      ],
      "metadata": {
        "id": "U_ECp9KHBEE-"
      },
      "execution_count": null,
      "outputs": []
    },
    {
      "cell_type": "code",
      "source": [
        "continous_plot(\"CreditScore\")"
      ],
      "metadata": {
        "id": "oF0nREEuBEE_"
      },
      "execution_count": null,
      "outputs": []
    },
    {
      "cell_type": "markdown",
      "source": [
        "<div style=\"border-radius:10px; border:#808080 solid; padding: 15px; background-color: ##F0E68C ; font-size:100%; text-align:left\">\n",
        "\n",
        "<h3 align=\"left\"><font color=brown>📊 Inference:</font></h3>\n",
        "\n",
        "* The **Median CreditScore** of **both churned** and **not churned** customers are **approxiamately equal.**\n",
        "* Since the **values are approximately equal** for both **churn status** we can't generate any **relevant inference.**"
      ],
      "metadata": {
        "id": "umKOz5GWBEE_"
      }
    },
    {
      "cell_type": "markdown",
      "source": [
        "---"
      ],
      "metadata": {
        "id": "ONynRzq3BEFA"
      }
    },
    {
      "cell_type": "markdown",
      "source": [
        "### 9. Visualizing Customer Churned by \"Age\"."
      ],
      "metadata": {
        "id": "1REEZDJfBEFA"
      }
    },
    {
      "cell_type": "code",
      "source": [
        "continous_plot(\"Age\")"
      ],
      "metadata": {
        "id": "AVO7QYxfBEFA"
      },
      "execution_count": null,
      "outputs": []
    },
    {
      "cell_type": "markdown",
      "source": [
        "<div style=\"border-radius:10px; border:#808080 solid; padding: 15px; background-color: ##F0E68C ; font-size:100%; text-align:left\">\n",
        "\n",
        "<h3 align=\"left\"><font color=brown>📊 Inference:</font></h3>\n",
        "\n",
        "* The **distribution is right skewed** because of **presence of outliers** which can lead to **overfitting in model.**\n",
        "* To **overcome this right-skewed distribution** we can use **log normal transformation** technique to bring a **normal distribution.**"
      ],
      "metadata": {
        "id": "EVjpNbsXBEFA"
      }
    },
    {
      "cell_type": "markdown",
      "source": [
        "---"
      ],
      "metadata": {
        "id": "ETEiuzBkBEFA"
      }
    },
    {
      "cell_type": "markdown",
      "source": [
        "### 10. Visualizing Customer Churned by \"Balance.\""
      ],
      "metadata": {
        "id": "5uecThXFBEFA"
      }
    },
    {
      "cell_type": "code",
      "source": [
        "continous_plot(\"Balance\")"
      ],
      "metadata": {
        "id": "Epoc3msJBEFA"
      },
      "execution_count": null,
      "outputs": []
    },
    {
      "cell_type": "markdown",
      "source": [
        "<div style=\"border-radius:10px; border:#808080 solid; padding: 15px; background-color: ##F0E68C ; font-size:100%; text-align:left\">\n",
        "\n",
        "<h3 align=\"left\"><font color=brown>📊 Inference:</font></h3>\n",
        "\n",
        "* **More than 3000 customers** are having their **account balance equal to zero.**\n",
        "* Customers with **zero balance** are more likely to **deactivate their account.**\n",
        "* **Excluding the zero value** we can observe a **normal distribution.** So don't have to use any other techniques.\n",
        "    \n",
        "\n",
        " * **Note:-**\n",
        "    * We can do **Feature Engineering** by **grouping** the customers with account **balance equal to 0** and **balance more than 0 separately.**\n",
        "    "
      ],
      "metadata": {
        "id": "dPvPGeJLBEFA"
      }
    },
    {
      "cell_type": "markdown",
      "source": [
        "---"
      ],
      "metadata": {
        "id": "lD4nwY_rBEFA"
      }
    },
    {
      "cell_type": "markdown",
      "source": [
        "### 11. Visualizing Customer Churned by \"Estimated Salary\"."
      ],
      "metadata": {
        "id": "Kujh4P77BEFA"
      }
    },
    {
      "cell_type": "code",
      "source": [
        "continous_plot(\"EstimatedSalary\")"
      ],
      "metadata": {
        "id": "m7YDoFknBEFA"
      },
      "execution_count": null,
      "outputs": []
    },
    {
      "cell_type": "markdown",
      "source": [
        "<div style=\"border-radius:10px; border:#808080 solid; padding: 15px; background-color: ##F0E68C ; font-size:100%; text-align:left\">\n",
        "\n",
        "<h3 align=\"left\"><font color=brown>📊 Inference:</font></h3>\n",
        "\n",
        "* The **median value of EstimatedSalary** is **approxiamately same** for both the **churned categories.**\n",
        "* Since the distribution is **kind of similar** for **both churn category** we can't make any **relevant inference.**"
      ],
      "metadata": {
        "id": "BKi6xbxJBEFA"
      }
    },
    {
      "cell_type": "markdown",
      "source": [
        "---"
      ],
      "metadata": {
        "id": "FMylsLsLBEFA"
      }
    },
    {
      "cell_type": "markdown",
      "source": [
        "## <div style=\"text-align: left; background-color:aliceblue ; font-family: Trebuchet MS; color: black; padding: 15px; line-height:1;border-radius:1px; margin-bottom: 0em; text-align: center; font-size: 25px;border-style: solid;border-color: dark green;\"> Feature Engineering</div>"
      ],
      "metadata": {
        "id": "aG31jyzcBEFA"
      }
    },
    {
      "cell_type": "markdown",
      "source": [
        "### 1. Creating New Feature From \"NumOfProducts\" Feature."
      ],
      "metadata": {
        "id": "--PQbMk6BEFA"
      }
    },
    {
      "cell_type": "code",
      "source": [
        "conditions = [(df[\"NumOfProducts\"]==1), (df[\"NumOfProducts\"]==2), (df[\"NumOfProducts\"]>2)]\n",
        "values =     [\"One product\",\"Two Products\",\"More Than 2 Products\"]"
      ],
      "metadata": {
        "id": "ry53XrXhBEFB"
      },
      "execution_count": null,
      "outputs": []
    },
    {
      "cell_type": "code",
      "source": [
        "df[\"Total_Products\"] = np.select(conditions,values)"
      ],
      "metadata": {
        "id": "tlGDfB73BEFB"
      },
      "execution_count": null,
      "outputs": []
    },
    {
      "cell_type": "code",
      "source": [
        "df.drop(columns=\"NumOfProducts\", inplace=True)"
      ],
      "metadata": {
        "scrolled": true,
        "id": "UtsCc0HDBEFB"
      },
      "execution_count": null,
      "outputs": []
    },
    {
      "cell_type": "markdown",
      "source": [
        "### Visualizing The New Feature \"Total_Products\"."
      ],
      "metadata": {
        "id": "pVbvgJctBEFB"
      }
    },
    {
      "cell_type": "code",
      "source": [
        "countplot(\"Total_Products\")"
      ],
      "metadata": {
        "id": "qBoR9T4xBEFB"
      },
      "execution_count": null,
      "outputs": []
    },
    {
      "cell_type": "markdown",
      "source": [
        "---"
      ],
      "metadata": {
        "id": "FqAwMhfbBEFB"
      }
    },
    {
      "cell_type": "markdown",
      "source": [
        "### 2. Creating New Feature From \"Balance\" Feature."
      ],
      "metadata": {
        "id": "6_C632UcBEFB"
      }
    },
    {
      "cell_type": "code",
      "source": [
        "conditions = [(df[\"Balance\"]==0), (df[\"Balance\"]>0)]\n",
        "values = [\"Zero Balance\",\"More Than zero Balance\"]"
      ],
      "metadata": {
        "id": "SQjp1aKKBEFB"
      },
      "execution_count": null,
      "outputs": []
    },
    {
      "cell_type": "code",
      "source": [
        "df[\"Account_Balance\"] = np.select(conditions, values)"
      ],
      "metadata": {
        "id": "p7PRd7rFBEFB"
      },
      "execution_count": null,
      "outputs": []
    },
    {
      "cell_type": "code",
      "source": [
        "df.drop(columns=\"Balance\",inplace=True)"
      ],
      "metadata": {
        "id": "e8dmSiyxBEFB"
      },
      "execution_count": null,
      "outputs": []
    },
    {
      "cell_type": "markdown",
      "source": [
        "### Visualizing The New Feature \"Account_Balance\"."
      ],
      "metadata": {
        "id": "gxSZSNWcBEFB"
      }
    },
    {
      "cell_type": "code",
      "source": [
        "countplot(\"Account_Balance\")"
      ],
      "metadata": {
        "id": "0Cdb2d2KBEFB"
      },
      "execution_count": null,
      "outputs": []
    },
    {
      "cell_type": "markdown",
      "source": [
        "---"
      ],
      "metadata": {
        "id": "_27z8zzhBEFB"
      }
    },
    {
      "cell_type": "markdown",
      "source": [
        "## <div style=\"text-align: left; background-color:aliceblue ; font-family: Trebuchet MS; color: black; padding: 15px; line-height:1;border-radius:1px; margin-bottom: 0em; text-align: center; font-size: 25px;border-style: solid;border-color: dark green;\"> Data Preprocessing</div>"
      ],
      "metadata": {
        "id": "WzOfDgNVBEFB"
      }
    },
    {
      "cell_type": "markdown",
      "source": [
        "### 1. Computing Unique Values of Categorical Columns."
      ],
      "metadata": {
        "id": "o8ZbUrsvBEFB"
      }
    },
    {
      "cell_type": "code",
      "source": [
        "cat_cols = [\"Geography\",\"Gender\",\"Total_Products\",\"Account_Balance\"]\n",
        "\n",
        "for column in cat_cols:\n",
        "    print(f\"Unique Values in {column} column is:\",df[column].unique())\n",
        "    print(\"-\"*100,\"\\n\")"
      ],
      "metadata": {
        "id": "crdxOOMhBEFB"
      },
      "execution_count": null,
      "outputs": []
    },
    {
      "cell_type": "markdown",
      "source": [
        "---"
      ],
      "metadata": {
        "id": "eGYTNK_aBEFC"
      }
    },
    {
      "cell_type": "markdown",
      "source": [
        "### 2. Performing One Hot Encoding on Categorical Features."
      ],
      "metadata": {
        "id": "ykIxFNjOBEFC"
      }
    },
    {
      "cell_type": "code",
      "source": [
        "df = pd.get_dummies(columns=cat_cols, data=df)"
      ],
      "metadata": {
        "id": "G37EdHuyBEFC"
      },
      "execution_count": null,
      "outputs": []
    },
    {
      "cell_type": "markdown",
      "source": [
        "### 3. Encoding Target Variable."
      ],
      "metadata": {
        "id": "jRLOeloHBEFC"
      }
    },
    {
      "cell_type": "code",
      "source": [
        "df[\"Churned\"].replace({\"No\":0,\"Yes\":1},inplace=True)"
      ],
      "metadata": {
        "id": "kv8b-J7mBEFC"
      },
      "execution_count": null,
      "outputs": []
    },
    {
      "cell_type": "code",
      "source": [
        "df.head()"
      ],
      "metadata": {
        "id": "eROfxH1rBEFC"
      },
      "execution_count": null,
      "outputs": []
    },
    {
      "cell_type": "markdown",
      "source": [
        "---"
      ],
      "metadata": {
        "id": "fzfc7Fs3BEFC"
      }
    },
    {
      "cell_type": "markdown",
      "source": [
        "### 4. Checking Skewness of Continous Features."
      ],
      "metadata": {
        "id": "Ubf0plzFBEFC"
      }
    },
    {
      "cell_type": "code",
      "source": [
        "cols = [\"CreditScore\",\"Age\",\"EstimatedSalary\"]"
      ],
      "metadata": {
        "id": "iwUhFY5zBEFC"
      },
      "execution_count": null,
      "outputs": []
    },
    {
      "cell_type": "code",
      "source": [
        "df[cols].skew().to_frame().rename(columns={0:\"Feature Skewness\"})"
      ],
      "metadata": {
        "id": "OTOAHA0gBEFC"
      },
      "execution_count": null,
      "outputs": []
    },
    {
      "cell_type": "markdown",
      "source": [
        "<div style=\"border-radius:10px; border:#808080 solid; padding: 15px; background-color: ##F0E68C ; font-size:100%; text-align:left\">\n",
        "\n",
        "<h3 align=\"left\"><font color=brown>📊 Inference:</font></h3>\n",
        "\n",
        "    \n",
        "* **Age Feature** is **highly right-skewed** , which conveys that there is presence of **positive outliers.**\n",
        "* **Skewness** can **negatively impact** the **performance** of certain machine learning algorithms, like **DecisionTree & Linear Models.**\n",
        "* To overcome the **right-skewed distribution** we can use **log normal transformation** to achieve a **normal distribution.**"
      ],
      "metadata": {
        "id": "2YfhPzT4BEFC"
      }
    },
    {
      "cell_type": "markdown",
      "source": [
        "---"
      ],
      "metadata": {
        "id": "f_GdBJPTBEFD"
      }
    },
    {
      "cell_type": "markdown",
      "source": [
        "### 4. Performing Log Transformation on Age Column."
      ],
      "metadata": {
        "id": "KjPjfpfxBEFD"
      }
    },
    {
      "cell_type": "code",
      "source": [
        "old_age = df[\"Age\"]     ##Storing the previous Age values to compare these values with the transformed values."
      ],
      "metadata": {
        "id": "ml7_q2bFBEFD"
      },
      "execution_count": null,
      "outputs": []
    },
    {
      "cell_type": "code",
      "source": [
        "df[\"Age\"] = np.log(df[\"Age\"])"
      ],
      "metadata": {
        "id": "Q9VOpnl5BEFD"
      },
      "execution_count": null,
      "outputs": []
    },
    {
      "cell_type": "markdown",
      "source": [
        "### 5. Visualizing Age Before and After Transformation."
      ],
      "metadata": {
        "id": "ec9jLtJOBEFD"
      }
    },
    {
      "cell_type": "code",
      "source": [
        "plt.figure(figsize=(13,6))\n",
        "plt.subplot(1,2,1)\n",
        "sns.histplot(old_age, color=\"purple\", kde=True)\n",
        "plt.title(\"Age Distribution Before Transformation\",fontweight=\"black\",size=18,pad=20)\n",
        "\n",
        "plt.subplot(1,2,2)\n",
        "sns.histplot(df[\"Age\"], color=\"purple\", kde=True)\n",
        "plt.title(\"Age Distribution After Transformation\",fontweight=\"black\",size=18,pad=20)\n",
        "plt.tight_layout()\n",
        "plt.show()"
      ],
      "metadata": {
        "id": "bSvzX27nBEFD"
      },
      "execution_count": null,
      "outputs": []
    },
    {
      "cell_type": "markdown",
      "source": [
        "<div style=\"border-radius:10px; border:#808080 solid; padding: 15px; background-color: ##F0E68C ; font-size:100%; text-align:left\">\n",
        "\n",
        "<h3 align=\"left\"><font color=brown>📊 Inference:</font></h3>\n",
        "\n",
        "    \n",
        "* After applying **log normal transformation** the **age feature has achieved** a **normal distribution.**\n",
        "* This will **help model** to find more **relevant patterns** and build a more **accurate model.**"
      ],
      "metadata": {
        "id": "gETtgr8XBEFD"
      }
    },
    {
      "cell_type": "markdown",
      "source": [
        "---"
      ],
      "metadata": {
        "id": "9cX-UREyBEFD"
      }
    },
    {
      "cell_type": "markdown",
      "source": [
        "### 6. Segregating Features & Labels for Model Training."
      ],
      "metadata": {
        "id": "r5tRnxJyBEFD"
      }
    },
    {
      "cell_type": "code",
      "source": [
        "X = df.drop(columns=[\"Churned\"])\n",
        "y = df[\"Churned\"]"
      ],
      "metadata": {
        "id": "xHt_8D2OBEFD"
      },
      "execution_count": null,
      "outputs": []
    },
    {
      "cell_type": "markdown",
      "source": [
        "---"
      ],
      "metadata": {
        "id": "sYgpKdKkBEFD"
      }
    },
    {
      "cell_type": "markdown",
      "source": [
        "### 7. Splitting Data For Model Training & Testing."
      ],
      "metadata": {
        "id": "ShMCQnslBEFD"
      }
    },
    {
      "cell_type": "code",
      "source": [
        "x_train,x_test,y_train,y_test = train_test_split(X,y,test_size=0.2,random_state=0)"
      ],
      "metadata": {
        "id": "piTSrTZJBEFD"
      },
      "execution_count": null,
      "outputs": []
    },
    {
      "cell_type": "code",
      "source": [
        "print(\"Shape of x_train is:\",x_train.shape)\n",
        "print(\"Shape of x_test is: \",x_test.shape)\n",
        "print(\"Shape of y_train is:\",y_train.shape)\n",
        "print(\"Shape of y_test is: \",y_test.shape)"
      ],
      "metadata": {
        "id": "18tvOLzhBEFD"
      },
      "execution_count": null,
      "outputs": []
    },
    {
      "cell_type": "markdown",
      "source": [
        "<div style=\"border-radius:10px; border:#808080 solid; padding: 15px; background-color: ##F0E68C ; font-size:100%; text-align:left\">\n",
        "\n",
        "<h3 align=\"left\"><font color=brown>📊 Inference:</font></h3>\n",
        "\n",
        "* Data is **equally splitted** for **Model Training & Testing.**\n",
        "* So we can build a **Predictive Model** to find the **key factors** that are significantly influencing **customers churn.**</div>"
      ],
      "metadata": {
        "id": "-arj6VlYBEFD"
      }
    },
    {
      "cell_type": "markdown",
      "source": [
        "---"
      ],
      "metadata": {
        "id": "GR_7c6SzBEFE"
      }
    },
    {
      "cell_type": "markdown",
      "source": [
        "###  8. Applying SMOTE to Overcome the Class-Imbalance in Target Variable."
      ],
      "metadata": {
        "id": "_lZyDajHBEFE"
      }
    },
    {
      "cell_type": "code",
      "source": [
        "smt = SMOTE(random_state=42)"
      ],
      "metadata": {
        "id": "T7rLNqwiBEFE"
      },
      "execution_count": null,
      "outputs": []
    },
    {
      "cell_type": "code",
      "source": [
        "x_train_resampled,y_train_resampled = smt.fit_resample(x_train,y_train)"
      ],
      "metadata": {
        "id": "IkUUbmG8BEFE"
      },
      "execution_count": null,
      "outputs": []
    },
    {
      "cell_type": "code",
      "source": [
        "print(x_train_resampled.shape ,y_train_resampled.shape)"
      ],
      "metadata": {
        "id": "uwgl1dJrBEFE"
      },
      "execution_count": null,
      "outputs": []
    },
    {
      "cell_type": "code",
      "source": [
        "y_train_resampled.value_counts().to_frame()"
      ],
      "metadata": {
        "id": "ul79qTDtBEFE"
      },
      "execution_count": null,
      "outputs": []
    },
    {
      "cell_type": "markdown",
      "source": [
        "<div style=\"border-radius:10px; border:#808080 solid; padding: 15px; background-color: ##F0E68C ; font-size:100%; text-align:left\">\n",
        "\n",
        "<h3 align=\"left\"><font color=brown>📊 Inference:</font></h3>\n",
        "\n",
        "* **Both the categories** in Target variable are now having **equal number of records.**\n",
        "* So we can **train the Model** pn **balanced records** for both churn categories and make a predictive model with **low bias.**"
      ],
      "metadata": {
        "id": "-sCLz5T3BEFE"
      }
    },
    {
      "cell_type": "markdown",
      "source": [
        "---"
      ],
      "metadata": {
        "id": "EjOi2peZBEFE"
      }
    },
    {
      "cell_type": "markdown",
      "source": [
        "<div style=\"border-radius:10px; border:black solid; padding: 15px; background-color: purple; font-size:100%; text-align:left\">\n",
        "<p style=\"font-family:Georgia; font-weight:bold; letter-spacing: 2px; color:white; font-size:200%; text-align:center;padding: 0px;\"> Model Creation using DecisionTree</p></div>"
      ],
      "metadata": {
        "id": "ZZvpd4BmBEFE"
      }
    },
    {
      "cell_type": "markdown",
      "source": [
        "### 1. Performing Grid-Search with cross-validation to find the best Parameters for the Model."
      ],
      "metadata": {
        "id": "oaP28mqXBEFE"
      }
    },
    {
      "cell_type": "code",
      "source": [
        "dtree = DecisionTreeClassifier()"
      ],
      "metadata": {
        "id": "c2GaH3_ZBEFE"
      },
      "execution_count": null,
      "outputs": []
    },
    {
      "cell_type": "code",
      "source": [
        "param_grid = {\"max_depth\":[3,4,5,6,7,8,9,10],\n",
        "              \"min_samples_split\":[2,3,4,5,6,7,8],\n",
        "              \"min_samples_leaf\":[1,2,3,4,5,6,7,8],\n",
        "              \"criterion\":[\"gini\",\"entropy\"],\n",
        "              \"splitter\":[\"best\",\"random\"],\n",
        "              \"max_features\":[\"auto\",None],\n",
        "              \"random_state\":[0,42]}"
      ],
      "metadata": {
        "id": "aAaFUpTWBEFE"
      },
      "execution_count": null,
      "outputs": []
    },
    {
      "cell_type": "code",
      "source": [
        "grid_search = GridSearchCV(dtree, param_grid, cv=5, n_jobs=-1)\n",
        "\n",
        "grid_search.fit(x_train_resampled,y_train_resampled)"
      ],
      "metadata": {
        "scrolled": true,
        "id": "9C4_d5feBEFF"
      },
      "execution_count": null,
      "outputs": []
    },
    {
      "cell_type": "markdown",
      "source": [
        "---"
      ],
      "metadata": {
        "id": "2mOeYmv6BEFF"
      }
    },
    {
      "cell_type": "markdown",
      "source": [
        "### 2. Fetching the Best Parameters for DecisionTree Model."
      ],
      "metadata": {
        "id": "HdXZGhahBEFF"
      }
    },
    {
      "cell_type": "code",
      "source": [
        "best_parameters = grid_search.best_params_\n",
        "\n",
        "print(\"Best Parameters for DecisionTree Model is:\\n\\n\")\n",
        "best_parameters"
      ],
      "metadata": {
        "id": "ENnwhJNaBEFF"
      },
      "execution_count": null,
      "outputs": []
    },
    {
      "cell_type": "markdown",
      "source": [
        "---"
      ],
      "metadata": {
        "id": "uikrUfxhBEFF"
      }
    },
    {
      "cell_type": "markdown",
      "source": [
        "### 3. Creating DecisionTree Model Using Best Parameters."
      ],
      "metadata": {
        "id": "ROzMSb87BEFF"
      }
    },
    {
      "cell_type": "code",
      "source": [
        "dtree = DecisionTreeClassifier(**best_parameters)\n",
        "\n",
        "dtree.fit(x_train_resampled,y_train_resampled)"
      ],
      "metadata": {
        "id": "lj7D6gTsBEFF"
      },
      "execution_count": null,
      "outputs": []
    },
    {
      "cell_type": "markdown",
      "source": [
        "### 4. Computing Model Accuracy."
      ],
      "metadata": {
        "id": "eIOpYWecBEFF"
      }
    },
    {
      "cell_type": "code",
      "source": [
        "y_train_pred = dtree.predict(x_train_resampled)\n",
        "y_test_pred = dtree.predict(x_test)\n",
        "\n",
        "print(\"Accuracy Score of Model on Training Data is =>\",round(accuracy_score(y_train_resampled,y_train_pred)*100,2),\"%\")\n",
        "print(\"Accuracy Score of Model on Testing Data  is =>\",round(accuracy_score(y_test,y_test_pred)*100,2),\"%\")"
      ],
      "metadata": {
        "id": "MlFBgpmLBEFF"
      },
      "execution_count": null,
      "outputs": []
    },
    {
      "cell_type": "markdown",
      "source": [
        "### 5. Model Evaluation using Different Metric Values."
      ],
      "metadata": {
        "id": "xUIuyQ-PBEFF"
      }
    },
    {
      "cell_type": "code",
      "source": [
        "print(\"F1 Score of the Model is =>\",f1_score(y_test,y_test_pred,average=\"micro\"))\n",
        "print(\"Recall Score of the Model is =>\",recall_score(y_test,y_test_pred,average=\"micro\"))\n",
        "print(\"Precision Score of the Model is =>\",precision_score(y_test,y_test_pred,average=\"micro\"))"
      ],
      "metadata": {
        "id": "IVwO8db8BEFF"
      },
      "execution_count": null,
      "outputs": []
    },
    {
      "cell_type": "markdown",
      "source": [
        "<div style=\"border-radius:10px; border:#808080 solid; padding: 15px; background-color: ##F0E68C ; font-size:100%; text-align:left\">\n",
        "\n",
        "<h3 align=\"left\"><font color=brown>📊 Inference:</font></h3>\n",
        "\n",
        "* We can observe that **recall, precision, and F1 score are all the same**, it means that our** model is achieving perfect balance between** correctly identifying **positive samples (recall)** and minimizing **false positives (precision).**\n",
        "\n",
        "    \n",
        "* The **high values** for **F1 score, recall score, and precision score**, all of which are **approximately 0.8.** These **metrics suggest** that the **model achieves good accuracy** in predicting the **positive class.**"
      ],
      "metadata": {
        "id": "7BBrvf1tBEFF"
      }
    },
    {
      "cell_type": "markdown",
      "source": [
        "---"
      ],
      "metadata": {
        "id": "DJxMEnfTBEFF"
      }
    },
    {
      "cell_type": "markdown",
      "source": [
        "### 6. Finding Importance of Features in DecisionTreeClassifier."
      ],
      "metadata": {
        "id": "qdVD889_BEFF"
      }
    },
    {
      "cell_type": "code",
      "source": [
        "imp_df = pd.DataFrame({\"Feature Name\":x_train.columns,\n",
        "                       \"Importance\":dtree.feature_importances_})"
      ],
      "metadata": {
        "id": "ljmmOQb8BEFF"
      },
      "execution_count": null,
      "outputs": []
    },
    {
      "cell_type": "code",
      "source": [
        "features = imp_df.sort_values(by=\"Importance\",ascending=False)\n",
        "\n",
        "plt.figure(figsize=(12,7))\n",
        "sns.barplot(x=\"Importance\", y=\"Feature Name\", data=features, palette=\"plasma\")\n",
        "plt.title(\"Feature Importance in the Model Prediction\", fontweight=\"black\", size=20, pad=20)\n",
        "plt.yticks(size=12)\n",
        "plt.show()"
      ],
      "metadata": {
        "id": "caeTrfgLBEFF"
      },
      "execution_count": null,
      "outputs": []
    },
    {
      "cell_type": "markdown",
      "source": [
        "<div style=\"border-radius:10px; border:#808080 solid; padding: 15px; background-color: ##F0E68C ; font-size:100%; text-align:left\">\n",
        "\n",
        "<h3 align=\"left\"><font color=brown>📊 Inference:</font></h3>\n",
        "\n",
        "* The **key factors** that significantly influence the **deactivation of customers banking facilities** are:-\n",
        "    * **`Total_Products`**, **`Age`**, **`IsActiveMember`**, **`Geography`**, **`Balance`** and **`Gender.`**\n",
        "    \n",
        "    \n",
        "* The **minimal impact** of features on the **deactivation of customers' banking facilities** are:-\n",
        "    * **`CreditScore`**, **`HasCrCard`**, **`Tenure`** and **`EstimatedSalary`**"
      ],
      "metadata": {
        "id": "-fqA9s32BEFG"
      }
    },
    {
      "cell_type": "markdown",
      "source": [
        "----"
      ],
      "metadata": {
        "id": "L3DcDCMZBEFG"
      }
    },
    {
      "cell_type": "markdown",
      "source": [
        "### 7. SHAP Summary Plot: Explaining Model Predictions with Feature Importance."
      ],
      "metadata": {
        "id": "rPUlgcWCBEFG"
      }
    },
    {
      "cell_type": "code",
      "source": [
        "import shap\n",
        "explainer = shap.TreeExplainer(dtree)\n",
        "shap_values = explainer.shap_values(x_test)\n",
        "\n",
        "plt.title(\"Feature Importance and Effects on Predictions\",fontweight=\"black\",pad=20,size=18)\n",
        "shap.summary_plot(shap_values[1], x_test.values, feature_names = x_test.columns,plot_size=(14,8))"
      ],
      "metadata": {
        "id": "kqW3W2JkBEFG"
      },
      "execution_count": null,
      "outputs": []
    },
    {
      "cell_type": "markdown",
      "source": [
        "<div style=\"border-radius:10px; border:#808080 solid; padding: 15px; background-color: ##F0E68C ; font-size:100%; text-align:left\">\n",
        "\n",
        "<h3 align=\"left\"><font color=brown>📊 Inference:</font></h3>\n",
        "\n",
        "* The **red color represents high feature values**, indicating that the **feature positively contributes** for **increasing the prediction value.**\n",
        "* The **blue color represents low feature values,** indicating that the **feature negatively contributes** for **decreasing the prediction value.**"
      ],
      "metadata": {
        "id": "OH3eBRSxBEFG"
      }
    },
    {
      "cell_type": "markdown",
      "source": [
        "---"
      ],
      "metadata": {
        "id": "WXAihvZ9BEFG"
      }
    },
    {
      "cell_type": "markdown",
      "source": [
        "### 8. Model Evaluation using Confusion Matrix."
      ],
      "metadata": {
        "id": "eI3my6IMBEFG"
      }
    },
    {
      "cell_type": "code",
      "source": [
        "cm = confusion_matrix(y_test,y_test_pred)\n",
        "\n",
        "plt.figure(figsize=(15,6))\n",
        "sns.heatmap(data=cm, linewidth=.5, annot=True, fmt=\"g\", cmap=\"Set1\")\n",
        "plt.title(\"Model Evaluation using Confusion Matrix\",fontsize=20,pad=20,fontweight=\"black\")\n",
        "plt.ylabel(\"Actual Labels\")\n",
        "plt.xlabel(\"Predicted Labels\")\n",
        "plt.show()"
      ],
      "metadata": {
        "id": "52O5GQAdBEFH"
      },
      "execution_count": null,
      "outputs": []
    },
    {
      "cell_type": "markdown",
      "source": [
        "<div style=\"border-radius:10px; border:#808080 solid; padding: 15px; background-color: ##F0E68C ; font-size:100%; text-align:left\">\n",
        "\n",
        "<h3 align=\"left\"><font color=brown>📊 Inference:</font></h3>\n",
        "\n",
        "* **Strong True Positive Rate:** The model achieved a high number of true positive predictions, indicating its ability to correctly identify positive cases. This suggests that the model is effective in accurately classifying the desired outcome.\n",
        "\n",
        "    \n",
        "* **Need of Improvement in False Negative Rate:** The presence of a relatively high number of false negatives suggests that the model may have missed identifying some actual positive cases. This indicates a need for further refinement to enhance the model's ability to capture all positive cases.</div>"
      ],
      "metadata": {
        "id": "ZNRQWnOiBEFH"
      }
    },
    {
      "cell_type": "markdown",
      "source": [
        "---"
      ],
      "metadata": {
        "id": "x5Yo6cOVBEFH"
      }
    },
    {
      "cell_type": "markdown",
      "source": [
        "### 9. Model Evaluation: ROC Curve and Area Under the Curve (AUC)"
      ],
      "metadata": {
        "id": "zGnMPwvgBEFH"
      }
    },
    {
      "cell_type": "code",
      "source": [
        "y_pred_proba = dtree.predict_proba(x_test)[:][:,1]\n",
        "\n",
        "df_actual_predicted = pd.concat([pd.DataFrame(np.array(y_test), columns=[\"y_actual\"])])\n",
        "df_actual_predicted.index = y_test.index\n",
        "\n",
        "\n",
        "fpr, tpr, thresholds = roc_curve(df_actual_predicted[\"y_actual\"], y_pred_proba)\n",
        "auc = roc_auc_score(df_actual_predicted[\"y_actual\"], y_pred_proba)\n",
        "\n",
        "plt.figure(figsize=(8, 6))\n",
        "plt.plot(fpr, tpr, label=f\"AUC = {auc:.2f}\",color=\"green\")\n",
        "plt.plot([0, 1], [0, 1], linestyle=\"--\", color=\"black\")\n",
        "plt.xlabel(\"False Positive Rate\")\n",
        "plt.ylabel(\"True Positive Rate\")\n",
        "plt.title(\"ROC Curve\",pad=20,fontweight=\"black\")\n",
        "plt.legend()\n",
        "plt.show()"
      ],
      "metadata": {
        "id": "vtYStWEpBEFH"
      },
      "execution_count": null,
      "outputs": []
    },
    {
      "cell_type": "markdown",
      "source": [
        "<div style=\"border-radius:10px; border:#808080 solid; padding: 15px; background-color: ##F0E68C ; font-size:100%; text-align:left\">\n",
        "\n",
        "<h3 align=\"left\"><font color=brown>📊 Inference:</font></h3>\n",
        "\n",
        "    \n",
        "1. An **AUC (Area Under the Curve) value of 0.84** suggests that the model has **strong discriminative power.**\n",
        "2. This suggests that the model has a **high ability to distinguish between positive and negative instances**, indicating its effectiveness in making accurate predictions.\n",
        "3. The **model has a relatively high probability** of ranking a randomly selected positive instance higher than a randomly selected negative instance."
      ],
      "metadata": {
        "id": "J4fvPOsoBEFH"
      }
    },
    {
      "cell_type": "markdown",
      "source": [
        "---"
      ],
      "metadata": {
        "id": "g_Z_sUgxBEFH"
      }
    },
    {
      "cell_type": "markdown",
      "source": [
        "<div style=\"border-radius:10px; border:black solid; padding: 15px; background-color: purple; font-size:100%; text-align:left\">\n",
        "<p style=\"font-family:Georgia; font-weight:bold; letter-spacing: 2px; color:white; font-size:200%; text-align:center;padding: 0px;\"> Model Creation using RandomForest.</p></div>"
      ],
      "metadata": {
        "id": "tZDfbyB6BEFH"
      }
    },
    {
      "cell_type": "markdown",
      "source": [
        "### 1. Performing Grid-Search with cross-validation to find the best Parameters for the Model."
      ],
      "metadata": {
        "id": "LC_FUUXNBEFH"
      }
    },
    {
      "cell_type": "code",
      "source": [
        "rfc = RandomForestClassifier()"
      ],
      "metadata": {
        "id": "RF6L8U2oBEFH"
      },
      "execution_count": null,
      "outputs": []
    },
    {
      "cell_type": "code",
      "source": [
        "param_grid = {\"max_depth\":[3,4,5,6,7,8],\n",
        "              \"min_samples_split\":[3,4,5,6,7,8],\n",
        "              \"min_samples_leaf\":[3,4,5,6,7,8],\n",
        "              \"n_estimators\": [50,70,90,100],\n",
        "              \"criterion\":[\"gini\",\"entropy\"]}"
      ],
      "metadata": {
        "id": "XuIRr_G2BEFH"
      },
      "execution_count": null,
      "outputs": []
    },
    {
      "cell_type": "code",
      "source": [
        "grid_search = GridSearchCV(rfc, param_grid, cv=5, n_jobs=-1)\n",
        "\n",
        "grid_search.fit(x_train_resampled,y_train_resampled)"
      ],
      "metadata": {
        "scrolled": true,
        "id": "8wD1oTLRBEFH"
      },
      "execution_count": null,
      "outputs": []
    },
    {
      "cell_type": "markdown",
      "source": [
        "---"
      ],
      "metadata": {
        "id": "eN58jd5EBEFI"
      }
    },
    {
      "cell_type": "markdown",
      "source": [
        "### 2. Fetching the Best Parameters for RandomForest Model."
      ],
      "metadata": {
        "id": "Nz1Nna_tBEFI"
      }
    },
    {
      "cell_type": "code",
      "source": [
        "best_parameters = grid_search.best_params_\n",
        "\n",
        "print(\"Best Parameters for RandomForest Model is:\\n\\n\")\n",
        "best_parameters"
      ],
      "metadata": {
        "id": "X2DUvmfgBEFI"
      },
      "execution_count": null,
      "outputs": []
    },
    {
      "cell_type": "markdown",
      "source": [
        "---"
      ],
      "metadata": {
        "id": "hT-p3jGvBEFI"
      }
    },
    {
      "cell_type": "markdown",
      "source": [
        "### 3. Creating RandomForest Model Using Best Parameters."
      ],
      "metadata": {
        "id": "7xXT5YXnBEFI"
      }
    },
    {
      "cell_type": "code",
      "source": [
        "rfc = RandomForestClassifier(**best_parameters)\n",
        "\n",
        "rfc.fit(x_train_resampled,y_train_resampled)"
      ],
      "metadata": {
        "id": "6QM8wZSOBEFI"
      },
      "execution_count": null,
      "outputs": []
    },
    {
      "cell_type": "markdown",
      "source": [
        "### 4. Computing Model Accuracy."
      ],
      "metadata": {
        "id": "1MyAnGg4BEFI"
      }
    },
    {
      "cell_type": "code",
      "source": [
        "y_train_pred = rfc.predict(x_train_resampled)\n",
        "y_test_pred  = rfc.predict(x_test)\n",
        "\n",
        "print(\"Accuracy Score of Model on Training Data is =>\",round(accuracy_score(y_train_resampled,y_train_pred)*100,2),\"%\")\n",
        "print(\"Accuracy Score of Model on Testing Data  is =>\",round(accuracy_score(y_test,y_test_pred)*100,2),\"%\")"
      ],
      "metadata": {
        "id": "3sx3w7vcBEFI"
      },
      "execution_count": null,
      "outputs": []
    },
    {
      "cell_type": "markdown",
      "source": [
        "### 5. Model Evaluation using Different Metric Values."
      ],
      "metadata": {
        "id": "F4hKPGduBEFI"
      }
    },
    {
      "cell_type": "code",
      "source": [
        "print(\"F1 Score of the Model is =>\",f1_score(y_test,y_test_pred,average=\"micro\"))\n",
        "print(\"Recall Score of the Model is =>\",recall_score(y_test,y_test_pred,average=\"micro\"))\n",
        "print(\"Precision Score of the Model is =>\",precision_score(y_test,y_test_pred,average=\"micro\"))"
      ],
      "metadata": {
        "id": "gmgLjUjKBEFJ"
      },
      "execution_count": null,
      "outputs": []
    },
    {
      "cell_type": "markdown",
      "source": [
        "<div style=\"border-radius:10px; border:#808080 solid; padding: 15px; background-color: ##F0E68C ; font-size:100%; text-align:left\">\n",
        "\n",
        "<h3 align=\"left\"><font color=brown>📊 Inference:</font></h3>\n",
        "\n",
        "* We can observe that **recall, precision, and F1 score are all the same**, it means that our** model is achieving perfect balance between** correctly identifying **positive samples (recall)** and minimizing **false positives (precision).**\n",
        "\n",
        "    \n",
        "* The **high values** for **F1 score, recall score, and precision score**, all of which are **approximately 0.8.** These **metrics suggest** that the **model achieves good accuracy** in predicting the **positive class.**"
      ],
      "metadata": {
        "id": "uvasNwmbBEFJ"
      }
    },
    {
      "cell_type": "markdown",
      "source": [
        "---"
      ],
      "metadata": {
        "id": "VORMWx8sBEFJ"
      }
    },
    {
      "cell_type": "markdown",
      "source": [
        "### 6. Finding Importance of Features in RandomForest Model."
      ],
      "metadata": {
        "id": "Sf3Cy6vPBEFK"
      }
    },
    {
      "cell_type": "code",
      "source": [
        "imp_df = pd.DataFrame({\"Feature Name\":x_train.columns,\n",
        "                       \"Importance\":rfc.feature_importances_})"
      ],
      "metadata": {
        "id": "-lxbbz0_BEFK"
      },
      "execution_count": null,
      "outputs": []
    },
    {
      "cell_type": "code",
      "source": [
        "features = imp_df.sort_values(by=\"Importance\",ascending=False)\n",
        "\n",
        "plt.figure(figsize=(12,7))\n",
        "sns.barplot(x=\"Importance\", y=\"Feature Name\", data=features, palette=\"plasma\")\n",
        "plt.title(\"Feature Importance in the Model Prediction\", fontweight=\"black\", size=20, pad=20)\n",
        "plt.yticks(size=12)\n",
        "plt.show()"
      ],
      "metadata": {
        "id": "fHX1ylVsBEFK"
      },
      "execution_count": null,
      "outputs": []
    },
    {
      "cell_type": "markdown",
      "source": [
        "<div style=\"border-radius:10px; border:#808080 solid; padding: 15px; background-color: ##F0E68C ; font-size:100%; text-align:left\">\n",
        "\n",
        "<h3 align=\"left\"><font color=brown>📊 Inference:</font></h3>\n",
        "\n",
        "* The **key factors** that significantly influence the **deactivation of customers banking facilities** are:-\n",
        "    * **`Total_Products`**, **`Age`**, **`IsActiveMember`**, **`Geography`**, **`Gende`** and **`Balance`.**\n",
        "    \n",
        "    \n",
        "* The **minimal impact** of features on the **deactivation of customers' banking facilities** are:-\n",
        "    * **`HasCrCard`**, **`Tenure`**, **`CreditScore`** and **`EstimatedSalary`**"
      ],
      "metadata": {
        "id": "1Mo-1LD5BEFK"
      }
    },
    {
      "cell_type": "markdown",
      "source": [
        "----"
      ],
      "metadata": {
        "id": "m0868xbPBEFK"
      }
    },
    {
      "cell_type": "markdown",
      "source": [
        "### 7. SHAP Summary Plot: Explaining Model Predictions with Feature Importance."
      ],
      "metadata": {
        "id": "R64yYJDMBEFK"
      }
    },
    {
      "cell_type": "code",
      "source": [
        "import shap\n",
        "explainer = shap.TreeExplainer(rfc)\n",
        "shap_values = explainer.shap_values(x_test)\n",
        "\n",
        "plt.title(\"Feature Importance and Effects on Predictions\",fontweight=\"black\",pad=20,size=18)\n",
        "shap.summary_plot(shap_values[1], x_test.values, feature_names = x_test.columns,plot_size=(14,8))"
      ],
      "metadata": {
        "id": "HKPlCvjcBEFK"
      },
      "execution_count": null,
      "outputs": []
    },
    {
      "cell_type": "markdown",
      "source": [
        "<div style=\"border-radius:10px; border:#808080 solid; padding: 15px; background-color: ##F0E68C ; font-size:100%; text-align:left\">\n",
        "\n",
        "<h3 align=\"left\"><font color=brown>📊 Inference:</font></h3>\n",
        "\n",
        "* The **red color represents high feature values**, indicating that the **feature positively contributes** for **increasing the prediction value.**\n",
        "* The **blue color represents low feature values,** indicating that the **feature negatively contributes** for **decreasing the prediction value.**"
      ],
      "metadata": {
        "id": "Cj5NsLf6BEFK"
      }
    },
    {
      "cell_type": "markdown",
      "source": [
        "---"
      ],
      "metadata": {
        "id": "Ggee_Dl_BEFK"
      }
    },
    {
      "cell_type": "markdown",
      "source": [
        "### 8. Model Evaluation using Confusion Matrix."
      ],
      "metadata": {
        "id": "BjT_HI3jBEFL"
      }
    },
    {
      "cell_type": "code",
      "source": [
        "cm = confusion_matrix(y_test,y_test_pred)\n",
        "\n",
        "plt.figure(figsize=(15,6))\n",
        "sns.heatmap(data=cm, linewidth=.5, annot=True, fmt=\"g\", cmap=\"Set1\")\n",
        "plt.title(\"Model Evaluation using Confusion Matrix\",fontsize=20,pad=20,fontweight=\"black\")\n",
        "plt.ylabel(\"Actual Labels\")\n",
        "plt.xlabel(\"Predicted Labels\")\n",
        "plt.show()"
      ],
      "metadata": {
        "id": "lQhK6rgsBEFL"
      },
      "execution_count": null,
      "outputs": []
    },
    {
      "cell_type": "markdown",
      "source": [
        "<div style=\"border-radius:10px; border:#808080 solid; padding: 15px; background-color: ##F0E68C ; font-size:100%; text-align:left\">\n",
        "\n",
        "<h3 align=\"left\"><font color=brown>📊 Inference:</font></h3>\n",
        "\n",
        "* **Strong True Positive Rate:** The model achieved a high number of true positive predictions, indicating its ability to correctly identify positive cases. This suggests that the model is effective in accurately classifying the desired outcome.\n",
        "\n",
        "    \n",
        "* **Need of Improvement in False Negative Rate:** The presence of a relatively high number of false negatives suggests that the model may have missed identifying some actual positive cases. This indicates a need for further refinement to enhance the model's ability to capture all positive cases.</div>"
      ],
      "metadata": {
        "id": "w8oVEK5kBEFL"
      }
    },
    {
      "cell_type": "markdown",
      "source": [
        "---"
      ],
      "metadata": {
        "id": "egP_VnocBEFL"
      }
    },
    {
      "cell_type": "markdown",
      "source": [
        "### 9. Model Evaluation: ROC Curve and Area Under the Curve (AUC)"
      ],
      "metadata": {
        "id": "chAoRA2PBEFL"
      }
    },
    {
      "cell_type": "code",
      "source": [
        "y_pred_proba = rfc.predict_proba(x_test)[:][:,1]\n",
        "\n",
        "df_actual_predicted = pd.concat([pd.DataFrame(np.array(y_test), columns=[\"y_actual\"])])\n",
        "df_actual_predicted.index = y_test.index\n",
        "\n",
        "\n",
        "fpr, tpr, thresholds = roc_curve(df_actual_predicted[\"y_actual\"], y_pred_proba)\n",
        "auc = roc_auc_score(df_actual_predicted[\"y_actual\"], y_pred_proba)\n",
        "\n",
        "plt.figure(figsize=(8, 6))\n",
        "plt.plot(fpr, tpr, label=f\"AUC = {auc:.2f}\",color=\"green\")\n",
        "plt.plot([0, 1], [0, 1], linestyle=\"--\", color=\"black\")\n",
        "plt.xlabel(\"False Positive Rate\")\n",
        "plt.ylabel(\"True Positive Rate\")\n",
        "plt.title(\"ROC Curve\",pad=20,fontweight=\"black\")\n",
        "plt.legend()\n",
        "plt.show()"
      ],
      "metadata": {
        "id": "qi_4LrA0BEFL"
      },
      "execution_count": null,
      "outputs": []
    },
    {
      "cell_type": "markdown",
      "source": [
        "<div style=\"border-radius:10px; border:#808080 solid; padding: 15px; background-color: ##F0E68C ; font-size:100%; text-align:left\">\n",
        "\n",
        "<h3 align=\"left\"><font color=brown>📊 Inference:</font></h3>\n",
        "\n",
        "    \n",
        "1. An **AUC (Area Under the Curve) value of 0.86** suggests that the model has **strong discriminative power.**\n",
        "2. This suggests that the model has a **high ability to distinguish between positive and negative instances**, indicating its effectiveness in making accurate predictions.\n",
        "3. The **model has a relatively high probability** of ranking a randomly selected positive instance higher than a randomly selected negative instance."
      ],
      "metadata": {
        "id": "fq7XSsB4BEFL"
      }
    },
    {
      "cell_type": "markdown",
      "source": [
        "---"
      ],
      "metadata": {
        "id": "HBTz_ibOBEFL"
      }
    },
    {
      "cell_type": "markdown",
      "source": [
        "---"
      ],
      "metadata": {
        "id": "QQAILBmkBEFL"
      }
    },
    {
      "cell_type": "markdown",
      "source": [
        "<div style=\"border-radius:10px; border:black solid; padding: 15px; background-color: Brown; font-size:100%; text-align:left\">\n",
        "<p style=\"font-family:Georgia; font-weight:bold; letter-spacing: 2px; color:white; font-size:200%; text-align:center;padding: 0px;\"> Conclusion</p></div>"
      ],
      "metadata": {
        "id": "fpLq0hoNBEFL"
      }
    },
    {
      "cell_type": "markdown",
      "source": [
        "<div style=\"border-radius:10px; border:#808080 solid; padding: 15px; background-color: ##F0E68C ; font-size:100%; text-align:left\">\n",
        "\n",
        "<h3 align=\"left\"><font color=brown>📊 Key-Points</font></h3>\n",
        "\n",
        "    \n",
        "* The **key factors** that significantly influence the **deactivation of customers banking facilities** are **Total_Products, Age, IsActiveMember**, **Gender** and **Geography.**\n",
        "\n",
        "    \n",
        "* **High Training and Testing Accuracies:** Both the model achieved a high accuracy score near to 90% on the training data, indicating a good fit to the training instances. Additionally, the model's accuracy score near to 85% on the testing data suggests its ability to generalize well to unseen instances.\n",
        "    \n",
        "    \n",
        "* **High F1 Score, Recall, and Precision:** The model achieved high F1 score, recall, and precision values, all approximately 0.8. This indicates that the model has a strong ability to correctly identify positive cases while minimizing false positives and maximizing true positives.\n",
        "\n",
        "\n",
        "* **High AUC value more than 0.8**, states that the model demonstrates a reasonably good discriminatory power. It suggests that the model is able to distinguish between positive and negative instances with a relatively high degree of accuracy.\n",
        "    \n",
        "    \n",
        "* **Overall Model Performance:** The model demonstrates strong performance across multiple evaluation metrics, indicating its effectiveness in making accurate predictions and capturing the desired outcomes.\n",
        "    \n",
        "    \n",
        "    \n",
        "<h3 align=\"left\"><font color=brown>📊 Recommendations</font></h3>\n",
        "\n",
        "1. The **bank** can try to convince the customers to have **atleast 2 banking products** but **not less than 2.**\n",
        "2. The **bank** can launch a **scheme for customers with higher ages (Senior Citizens)** so that they not deactivate their **banking facilities.**\n",
        "3. The **bank** can provide **Rewards and Incentive Programs**, **Regular Communication and Updates**, and **Enhanced Digital Services** so that customers remain active to the banking facilities."
      ],
      "metadata": {
        "id": "DzUZLz6eBEFL"
      }
    }
  ]
}